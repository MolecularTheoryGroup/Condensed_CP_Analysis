{
 "cells": [
  {
   "cell_type": "code",
   "execution_count": 1,
   "metadata": {},
   "outputs": [
    {
     "name": "stderr",
     "output_type": "stream",
     "text": [
      "\u001b[32m\u001b[1m    Updating\u001b[22m\u001b[39m registry at `~/.julia/registries/General.toml`\n"
     ]
    },
    {
     "name": "stderr",
     "output_type": "stream",
     "text": [
      "\u001b[32m\u001b[1m   Resolving\u001b[22m\u001b[39m package versions...\n"
     ]
    },
    {
     "name": "stderr",
     "output_type": "stream",
     "text": [
      "\u001b[32m\u001b[1m   Installed\u001b[22m\u001b[39m PlyIO ─ v1.1.2\n"
     ]
    },
    {
     "name": "stderr",
     "output_type": "stream",
     "text": [
      "┌ Warning: The active manifest file at `/Users/haiiro/SynologyDrive/Projects/Julia/Condensed_CP_Analysis/Manifest.toml` has an old format that is being maintained.\n",
      "│ To update to the new format, which is supported by Julia versions ≥ 1.6.2, run `Pkg.upgrade_manifest()` which will upgrade the format without re-resolving.\n",
      "│ To then record the julia version re-resolve with `Pkg.resolve()` and if there are resolve conflicts consider `Pkg.update()`.\n",
      "└ @ Pkg.Types /Users/administrator/.julia/scratchspaces/a66863c6-20e8-4ff4-8a62-49f30b1f605e/agent-cache/default-macmini-aarch64-1.0/build/default-macmini-aarch64-1-0/julialang/julia-release-1-dot-8/usr/share/julia/stdlib/v1.8/Pkg/src/manifest.jl:287\n",
      "\u001b[32m\u001b[1m    Updating\u001b[22m\u001b[39m"
     ]
    },
    {
     "name": "stderr",
     "output_type": "stream",
     "text": [
      " `~/SynologyDrive/Projects/Julia/Condensed_CP_Analysis/Project.toml`\n",
      " \u001b[90m [42171d58] \u001b[39m\u001b[92m+ PlyIO v1.1.2\u001b[39m\n",
      "\u001b[32m\u001b[1m    Updating\u001b[22m\u001b[39m `~/SynologyDrive/Projects/Julia/Condensed_CP_Analysis/Manifest.toml`\n",
      " "
     ]
    },
    {
     "name": "stderr",
     "output_type": "stream",
     "text": [
      "\u001b[90m [42171d58] \u001b[39m\u001b[92m+ PlyIO v1.1.2\u001b[39m\n",
      "┌ Warning: The active manifest file is an older format with no julia version entry. Dependencies may have been resolved with a different julia version.\n",
      "└ @ nothing /Users/haiiro/SynologyDrive/Projects/Julia/Condensed_CP_Analysis/Manifest.toml:0\n"
     ]
    },
    {
     "name": "stderr",
     "output_type": "stream",
     "text": [
      "\u001b[32m\u001b[1mPrecompiling\u001b[22m\u001b[39m "
     ]
    },
    {
     "name": "stderr",
     "output_type": "stream",
     "text": [
      "project...\n"
     ]
    },
    {
     "name": "stderr",
     "output_type": "stream",
     "text": [
      "\u001b[32m  ✓ \u001b[39mPlyIO\n"
     ]
    },
    {
     "name": "stderr",
     "output_type": "stream",
     "text": [
      "\u001b[32m  ✓ \u001b[39mCondensed_CP_Analysis\n",
      "  2 dependencies successfully precompiled in 23 seconds. 282 already precompiled.\n"
     ]
    }
   ],
   "source": [
    "import Pkg; Pkg.add(\"PlyIO\")"
   ]
  },
  {
   "cell_type": "code",
   "execution_count": 7,
   "metadata": {},
   "outputs": [],
   "source": [
    "using PlyIO: load_ply\n",
    "using Meshes, MeshViz\n",
    "import GLMakie as Mke\n",
    "\n",
    "function loadply(fname)\n",
    "  ply = load_ply(fname)\n",
    "  x = ply[\"vertex\"][\"x\"]\n",
    "  y = ply[\"vertex\"][\"y\"]\n",
    "  z = ply[\"vertex\"][\"z\"]\n",
    "  points = Point.(x, y, z)\n",
    "  connec = [connect(Tuple(c.+1)) for c in ply[\"face\"][\"vertex_indices\"]]\n",
    "  SimpleMesh(points, connec)\n",
    "end\n",
    "\n",
    "mesh = loadply(\"/Users/haiiro/SynologyDrive/Projects/Julia/Condensed_CP_Analysis/data/beethoven.ply\")\n",
    "\n",
    "viz(mesh, showfacets = true)"
   ]
  }
 ],
 "metadata": {
  "kernelspec": {
   "display_name": "Julia 1.8.2",
   "language": "julia",
   "name": "julia-1.8"
  },
  "language_info": {
   "file_extension": ".jl",
   "mimetype": "application/julia",
   "name": "julia",
   "version": "1.8.2"
  },
  "orig_nbformat": 4
 },
 "nbformat": 4,
 "nbformat_minor": 2
}
